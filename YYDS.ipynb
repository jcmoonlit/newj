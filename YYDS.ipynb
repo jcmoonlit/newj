{
 "cells": [
  {
   "cell_type": "markdown",
   "id": "559cad12",
   "metadata": {},
   "source": [
    "# 启动Brower"
   ]
  },
  {
   "cell_type": "code",
   "execution_count": 1,
   "id": "b420f644",
   "metadata": {
    "scrolled": true
   },
   "outputs": [],
   "source": [
    "from selenium import webdriver as wd\n",
    "from importlib import reload\n",
    "# from selenium.webdriver.chrome.options import Options\n",
    "import dxm\n",
    "# import erp\n",
    "\n",
    "dx=dxm.DXM(wd.Chrome())\n",
    "dx()\n",
    "# chrome_options = Options()\n",
    "# chrome_options.add_argument('--headless') #增加无界面选项\n",
    "# chrome_options.add_argument('--disable-gpu') #如果不加这个选项，有时定位会出现问题"
   ]
  },
  {
   "cell_type": "code",
   "execution_count": null,
   "id": "e8fb943d",
   "metadata": {
    "scrolled": true
   },
   "outputs": [],
   "source": [
    "# dx0=dxm.DXM(wd.Chrome(options=chrome_options))#无头浏览器\n",
    "# dx=dxm.DXM(wd.Chrome())\n",
    "# er=erp.ERP(wd.Chrome())\n",
    "# dx()\n",
    "# dx0()\n",
    "# er()"
   ]
  },
  {
   "cell_type": "code",
   "execution_count": null,
   "id": "b4e457d8",
   "metadata": {
    "scrolled": true
   },
   "outputs": [],
   "source": [
    "er.come_in()"
   ]
  },
  {
   "cell_type": "code",
   "execution_count": null,
   "id": "a5b292d5",
   "metadata": {},
   "outputs": [],
   "source": [
    "er.es(\"arguments[0].click()\",er.xpath('//*[contains(text(),\"分销市场\")]'))"
   ]
  },
  {
   "cell_type": "code",
   "execution_count": null,
   "id": "56eb0aa9",
   "metadata": {},
   "outputs": [],
   "source": [
    "er.es(\"arguments[0].click()\",er.xpath('//*[@class=\"el-cascader-node__label\" and text()=\"户外用品\"]/..//*[@class=\"el-radio__label\"]'))"
   ]
  },
  {
   "cell_type": "markdown",
   "id": "cbf3641d",
   "metadata": {},
   "source": [
    "# 产品分类"
   ]
  },
  {
   "cell_type": "code",
   "execution_count": null,
   "id": "b97f78a1",
   "metadata": {
    "scrolled": true
   },
   "outputs": [],
   "source": [
    "# 腰部  Waist Supports\n",
    "st=\"3375301/706814011/11051400011/3422351/3775541/8620014011\"\n",
    "dx.edits(st)"
   ]
  },
  {
   "cell_type": "code",
   "execution_count": 12,
   "id": "3ba2ac1a",
   "metadata": {
    "scrolled": false
   },
   "outputs": [],
   "source": [
    "# other\n",
    "st=\"7141124011/7147440011/7581668011/7581677011/5605334011/5605337011\"\n",
    "dx.edits(st)"
   ]
  },
  {
   "cell_type": "markdown",
   "id": "d43ed29f",
   "metadata": {},
   "source": [
    "# 操作"
   ]
  },
  {
   "cell_type": "code",
   "execution_count": null,
   "id": "621f17a3",
   "metadata": {
    "scrolled": false
   },
   "outputs": [],
   "source": [
    "dx.closes"
   ]
  },
  {
   "cell_type": "code",
   "execution_count": 11,
   "id": "23ae8d47",
   "metadata": {
    "scrolled": true
   },
   "outputs": [],
   "source": [
    "dx.edit_btn"
   ]
  },
  {
   "cell_type": "code",
   "execution_count": null,
   "id": "04883296",
   "metadata": {},
   "outputs": [],
   "source": [
    "# UPC获取\n",
    "dx.gupcs()"
   ]
  },
  {
   "cell_type": "code",
   "execution_count": 30,
   "id": "8da61113",
   "metadata": {
    "scrolled": true
   },
   "outputs": [
    {
     "name": "stdout",
     "output_type": "stream",
     "text": [
      "Unable to close the Main_Window!!!\n"
     ]
    }
   ],
   "source": [
    "# 设置“是否过期”属性\n",
    "dx.setfos(_fpt=\"home\")"
   ]
  },
  {
   "cell_type": "code",
   "execution_count": null,
   "id": "ed286038",
   "metadata": {},
   "outputs": [],
   "source": [
    "ct = dx.xpath('//select[@id=\"categoryType\"]')\n",
    "ct.is_displayed()"
   ]
  },
  {
   "cell_type": "code",
   "execution_count": 20,
   "id": "b8d190cb",
   "metadata": {
    "scrolled": false
   },
   "outputs": [
    {
     "name": "stdout",
     "output_type": "stream",
     "text": [
      "Unable to close the Main_Window!!!\n"
     ]
    }
   ],
   "source": [
    "dx.publish"
   ]
  },
  {
   "cell_type": "code",
   "execution_count": null,
   "id": "2a0f0b16",
   "metadata": {},
   "outputs": [],
   "source": [
    "info=er.main()"
   ]
  },
  {
   "cell_type": "code",
   "execution_count": null,
   "id": "42d8b34e",
   "metadata": {
    "scrolled": true
   },
   "outputs": [],
   "source": [
    "dx0.mains(info)"
   ]
  },
  {
   "cell_type": "code",
   "execution_count": 31,
   "id": "85cb0063",
   "metadata": {},
   "outputs": [
    {
     "name": "stdout",
     "output_type": "stream",
     "text": [
      "Unable to close the Main_Window!!!\n",
      "weight: 220\n",
      "x 39.0\n",
      "y 20.239\n",
      "result 14.466178266178268\n",
      "prices: 14.59\n",
      "weight: 204\n",
      "x 30.0\n",
      "y 20.073\n",
      "result 12.227838827838829\n",
      "prices: 12.29\n"
     ]
    }
   ],
   "source": [
    "dx.fnf()"
   ]
  },
  {
   "cell_type": "code",
   "execution_count": null,
   "id": "cb16be7e",
   "metadata": {
    "scrolled": true
   },
   "outputs": [],
   "source": [
    "dx.go_back0('CDwindow-1272C448F107AF84BE10630A53C690E7')"
   ]
  },
  {
   "cell_type": "markdown",
   "id": "cf1d50d5",
   "metadata": {},
   "source": [
    "# 重定向"
   ]
  },
  {
   "cell_type": "code",
   "execution_count": null,
   "id": "d7914b74",
   "metadata": {
    "scrolled": true
   },
   "outputs": [],
   "source": [
    "reload(erp)\n",
    "er=erp.ERP(er.brower)"
   ]
  },
  {
   "cell_type": "code",
   "execution_count": 10,
   "id": "8ffa16cd",
   "metadata": {
    "scrolled": true
   },
   "outputs": [],
   "source": [
    "reload(dxm)\n",
    "dx=dxm.DXM(dx.brower)\n",
    "# dx0=dxm.DXM(dx0.brower)"
   ]
  },
  {
   "cell_type": "code",
   "execution_count": null,
   "id": "a078b7b8",
   "metadata": {
    "scrolled": true
   },
   "outputs": [],
   "source": [
    "js=er.get_one()\n",
    "js\n",
    "# dx.mains(js)"
   ]
  },
  {
   "cell_type": "code",
   "execution_count": null,
   "id": "b6f0f5ba",
   "metadata": {
    "scrolled": true
   },
   "outputs": [],
   "source": [
    "dx.brower.title"
   ]
  },
  {
   "cell_type": "code",
   "execution_count": null,
   "id": "b35575e1",
   "metadata": {
    "scrolled": true
   },
   "outputs": [],
   "source": [
    "info=er.main()"
   ]
  },
  {
   "cell_type": "code",
   "execution_count": null,
   "id": "e013e7f2",
   "metadata": {
    "scrolled": true
   },
   "outputs": [],
   "source": [
    "dx0.mains(info)"
   ]
  },
  {
   "cell_type": "code",
   "execution_count": null,
   "id": "062270f3",
   "metadata": {
    "scrolled": true
   },
   "outputs": [],
   "source": [
    "dx.ismain()"
   ]
  },
  {
   "cell_type": "code",
   "execution_count": null,
   "id": "2c299d89",
   "metadata": {},
   "outputs": [],
   "source": [
    "dx.pro_info(info[:3])"
   ]
  },
  {
   "cell_type": "code",
   "execution_count": 9,
   "id": "5406e84f",
   "metadata": {},
   "outputs": [],
   "source": [
    "dx.go_back0(-1)"
   ]
  },
  {
   "cell_type": "code",
   "execution_count": 8,
   "id": "20a956d1",
   "metadata": {},
   "outputs": [
    {
     "name": "stdout",
     "output_type": "stream",
     "text": [
      "This bidet sprayer is made of quality brass material, which is eco-friendly and durable for long-term using, and its stripe groove design can help you hand it firmly, the sprayer is also heat resisting and explosion proof, so it is practical in many occasions.  <br/><strong>Features:</strong><br/>1. Made of quality brass material, which is eco-friendly and durable for long-term using. <br/>2. Stripe groove design is great, which can help you hand the sprayer firmly. <br/>3. The bidet sprayer is heat resisting and explosion proof. <br/>4. The spray head is knock-down, which is easy to clean. <br/>5. Practical style is suitable for various occasions, such as women\\'s washing, fruit cleaning, toilet cleaning and pet cleaning, etc.  <br/><strong>Specification:</strong><br/>Condition: 100% Brand New <br/>Item Type: Handheld Bidet Sprayer <br/>Material: Brass Forming <br/>Process: High temperature forging&nbsp; Valve <br/>Element: Brass Surface <br/>Treatment: Electroplating (Chrome plating)&nbsp; Installing <br/>Form: Threaded Connection&nbsp;&nbsp; Thread <br/><strong>Specification:</strong><br/> G1/2 Operating <br/>Temperature: 0-80°C Suitable <br/>Pressure: 0.1-0.6MPA(Average household water pressure0.3-0.4)&nbsp;  <br/>Package List: 1 x Spray-head&nbsp; 1 x Water Pipe 1 x Angle Valve Stents 1 x Spray-head Stents 1 x Screw Kit 1 x Rossete 2 x&nbsp;Sealing Ring<br/><strong>Note:</strong><br/>Please note that the new type and old type of this product will be sent randomly, and make sure you will not mind before ordering.\n",
      "weight: 0\n"
     ]
    }
   ],
   "source": [
    "dx.set_frame()"
   ]
  },
  {
   "cell_type": "code",
   "execution_count": null,
   "id": "ade63585",
   "metadata": {},
   "outputs": [],
   "source": [
    "frame=dx.xpath('//div[@id=\"cke_1_contents\"]/iframe')\n",
    "dx.brower.switch_to.frame(frame)\n",
    "bd = dx.xpath('//body')\n",
    "string = bd.get_attribute('innerHTML')"
   ]
  },
  {
   "cell_type": "code",
   "execution_count": null,
   "id": "d6fd8ad1",
   "metadata": {},
   "outputs": [],
   "source": [
    "str\n",
    "dx.es(f\"arguments[0].innerHTML='{string}'\",bd)"
   ]
  },
  {
   "cell_type": "code",
   "execution_count": null,
   "id": "5d168fbf",
   "metadata": {},
   "outputs": [],
   "source": [
    "type(dx.xpath('//div[@id=\"cke_1_contents\"]/iframe'))"
   ]
  },
  {
   "cell_type": "code",
   "execution_count": null,
   "id": "67b0ee61",
   "metadata": {},
   "outputs": [],
   "source": [
    "from selenium.webdriver.support.wait import WebDriverWait\n",
    "from selenium.webdriver.support import expected_conditions as EC\n",
    "from selenium.webdriver.common.by import By"
   ]
  },
  {
   "cell_type": "code",
   "execution_count": null,
   "id": "7d9ffe2e",
   "metadata": {
    "scrolled": true
   },
   "outputs": [],
   "source": [
    "WebDriverWait(dx.brower,1).until(EC.presence_of_element_located((By.XPATH,'//div[@id=\"cke_1_contents\"]/iframe')))"
   ]
  },
  {
   "cell_type": "code",
   "execution_count": null,
   "id": "b2fc5cdb",
   "metadata": {},
   "outputs": [],
   "source": [
    "dx.finde('//div[@id=\"cke_1_contents\"]/iframe')"
   ]
  }
 ],
 "metadata": {
  "kernelspec": {
   "display_name": "Python 3 (ipykernel)",
   "language": "python",
   "name": "python3"
  },
  "language_info": {
   "codemirror_mode": {
    "name": "ipython",
    "version": 3
   },
   "file_extension": ".py",
   "mimetype": "text/x-python",
   "name": "python",
   "nbconvert_exporter": "python",
   "pygments_lexer": "ipython3",
   "version": "3.8.10"
  }
 },
 "nbformat": 4,
 "nbformat_minor": 5
}
